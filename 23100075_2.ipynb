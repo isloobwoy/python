{
 "cells": [
  {
   "cell_type": "markdown",
   "metadata": {},
   "source": [
    "<h1>Assignment 1 (Part 2)</h1>"
   ]
  },
  {
   "cell_type": "markdown",
   "metadata": {},
   "source": [
    "<h3>Assignment Instructions</h3>"
   ]
  },
  {
   "cell_type": "markdown",
   "metadata": {},
   "source": [
    "* **How to install 'otter'**: Run `pip install otter-grader` in your Anaconda Command Prompt\n",
    "* **Otter**: It is an autograder that we will be using for grading your notebooks.\n",
    "* **grader.check('qn')**: This command runs test cases for nth question `qn` provided to you and displays the result. But these are not the only test cases, these are provided just for your basic testing. There will be some *hidden test cases* on which your answers will be tested as well.\n",
    "* You are **not** allowed to edit any pre-defined variables and as per the instructions for every question you have to assign your answers to these variables.\n",
    "* Write your answers in place of `...`"
   ]
  },
  {
   "cell_type": "markdown",
   "metadata": {},
   "source": [
    "<h3>Submission Instructions</h3>"
   ]
  },
  {
   "cell_type": "markdown",
   "metadata": {},
   "source": [
    "* There are two parts of this assignment. You should name both notebooks as **YourRollNumber_PartNumber.ipynb**. (e.g. this part should be named as *`2XXXXXXX_2.ipynb`*)\n",
    "* You must submit a zip file containg just two notebooks and it must not has any folder or any other file. \n",
    "* The name of the zip file must be your `RollNumber_PA1`"
   ]
  },
  {
   "cell_type": "markdown",
   "metadata": {},
   "source": [
    "Please run the cell below to import all the necessary libraries that you would require for this part"
   ]
  },
  {
   "cell_type": "code",
   "execution_count": 312,
   "metadata": {},
   "outputs": [],
   "source": [
    "# Initialize Otter\n",
    "import otter\n",
    "grader = otter.Notebook()"
   ]
  },
  {
   "cell_type": "code",
   "execution_count": 313,
   "metadata": {},
   "outputs": [],
   "source": [
    "#Importing libraries\n",
    "import pandas as pd\n",
    "import matplotlib.pyplot as plt\n",
    "import numpy as np"
   ]
  },
  {
   "cell_type": "markdown",
   "metadata": {},
   "source": [
    "Given the rise in obesity we are aware that there is a huge chance that a person may be affected by the heart disease. In this assignment we are going to explore a dataset which contains information about individuals heart rate and oxygen saturation. In this part we are going to analyze the data and generate sufficent results from it."
   ]
  },
  {
   "cell_type": "markdown",
   "metadata": {},
   "source": [
    "Please load the two csv files inside the variables `heartDf` & `o2SaturationDf` using a relative command respectively"
   ]
  },
  {
   "cell_type": "code",
   "execution_count": 314,
   "metadata": {},
   "outputs": [],
   "source": [
    "#Please write your code below\n",
    "heartDf = pd.read_csv(\"heart.csv\")\n",
    "o2SaturationDf = pd.read_csv(\"o2Saturation.csv\")"
   ]
  },
  {
   "cell_type": "markdown",
   "metadata": {},
   "source": [
    "Here we would print the first 5 rows of both the datasets so that we know what the data is like :"
   ]
  },
  {
   "cell_type": "code",
   "execution_count": 315,
   "metadata": {},
   "outputs": [
    {
     "data": {
      "text/html": [
       "<div>\n",
       "<style scoped>\n",
       "    .dataframe tbody tr th:only-of-type {\n",
       "        vertical-align: middle;\n",
       "    }\n",
       "\n",
       "    .dataframe tbody tr th {\n",
       "        vertical-align: top;\n",
       "    }\n",
       "\n",
       "    .dataframe thead th {\n",
       "        text-align: right;\n",
       "    }\n",
       "</style>\n",
       "<table border=\"1\" class=\"dataframe\">\n",
       "  <thead>\n",
       "    <tr style=\"text-align: right;\">\n",
       "      <th></th>\n",
       "      <th>age</th>\n",
       "      <th>sex</th>\n",
       "      <th>cp</th>\n",
       "      <th>trtbps</th>\n",
       "      <th>chol</th>\n",
       "      <th>fbs</th>\n",
       "      <th>restecg</th>\n",
       "      <th>thalachh</th>\n",
       "      <th>exng</th>\n",
       "      <th>oldpeak</th>\n",
       "      <th>slp</th>\n",
       "      <th>caa</th>\n",
       "      <th>thall</th>\n",
       "      <th>output</th>\n",
       "    </tr>\n",
       "  </thead>\n",
       "  <tbody>\n",
       "    <tr>\n",
       "      <th>0</th>\n",
       "      <td>63</td>\n",
       "      <td>1</td>\n",
       "      <td>3</td>\n",
       "      <td>145.0</td>\n",
       "      <td>233.0</td>\n",
       "      <td>1</td>\n",
       "      <td>0</td>\n",
       "      <td>150.0</td>\n",
       "      <td>0</td>\n",
       "      <td>2.3</td>\n",
       "      <td>0</td>\n",
       "      <td>0</td>\n",
       "      <td>1</td>\n",
       "      <td>1</td>\n",
       "    </tr>\n",
       "    <tr>\n",
       "      <th>1</th>\n",
       "      <td>37</td>\n",
       "      <td>1</td>\n",
       "      <td>2</td>\n",
       "      <td>130.0</td>\n",
       "      <td>250.0</td>\n",
       "      <td>0</td>\n",
       "      <td>1</td>\n",
       "      <td>187.0</td>\n",
       "      <td>0</td>\n",
       "      <td>3.5</td>\n",
       "      <td>0</td>\n",
       "      <td>0</td>\n",
       "      <td>2</td>\n",
       "      <td>1</td>\n",
       "    </tr>\n",
       "    <tr>\n",
       "      <th>2</th>\n",
       "      <td>41</td>\n",
       "      <td>0</td>\n",
       "      <td>1</td>\n",
       "      <td>130.0</td>\n",
       "      <td>204.0</td>\n",
       "      <td>0</td>\n",
       "      <td>0</td>\n",
       "      <td>172.0</td>\n",
       "      <td>0</td>\n",
       "      <td>1.4</td>\n",
       "      <td>2</td>\n",
       "      <td>0</td>\n",
       "      <td>2</td>\n",
       "      <td>1</td>\n",
       "    </tr>\n",
       "    <tr>\n",
       "      <th>3</th>\n",
       "      <td>56</td>\n",
       "      <td>1</td>\n",
       "      <td>1</td>\n",
       "      <td>120.0</td>\n",
       "      <td>236.0</td>\n",
       "      <td>0</td>\n",
       "      <td>1</td>\n",
       "      <td>178.0</td>\n",
       "      <td>0</td>\n",
       "      <td>0.8</td>\n",
       "      <td>2</td>\n",
       "      <td>0</td>\n",
       "      <td>2</td>\n",
       "      <td>1</td>\n",
       "    </tr>\n",
       "    <tr>\n",
       "      <th>4</th>\n",
       "      <td>57</td>\n",
       "      <td>0</td>\n",
       "      <td>0</td>\n",
       "      <td>120.0</td>\n",
       "      <td>354.0</td>\n",
       "      <td>0</td>\n",
       "      <td>1</td>\n",
       "      <td>163.0</td>\n",
       "      <td>1</td>\n",
       "      <td>0.6</td>\n",
       "      <td>2</td>\n",
       "      <td>0</td>\n",
       "      <td>2</td>\n",
       "      <td>1</td>\n",
       "    </tr>\n",
       "  </tbody>\n",
       "</table>\n",
       "</div>"
      ],
      "text/plain": [
       "   age  sex  cp  trtbps   chol  fbs  restecg  thalachh  exng  oldpeak  slp  \\\n",
       "0   63    1   3   145.0  233.0    1        0     150.0     0      2.3    0   \n",
       "1   37    1   2   130.0  250.0    0        1     187.0     0      3.5    0   \n",
       "2   41    0   1   130.0  204.0    0        0     172.0     0      1.4    2   \n",
       "3   56    1   1   120.0  236.0    0        1     178.0     0      0.8    2   \n",
       "4   57    0   0   120.0  354.0    0        1     163.0     1      0.6    2   \n",
       "\n",
       "   caa  thall  output  \n",
       "0    0      1       1  \n",
       "1    0      2       1  \n",
       "2    0      2       1  \n",
       "3    0      2       1  \n",
       "4    0      2       1  "
      ]
     },
     "execution_count": 315,
     "metadata": {},
     "output_type": "execute_result"
    }
   ],
   "source": [
    "#Cell for visualizing the first 5 rows of the heart dataset\n",
    "heartDf.head(5)"
   ]
  },
  {
   "cell_type": "code",
   "execution_count": 316,
   "metadata": {},
   "outputs": [
    {
     "data": {
      "text/html": [
       "<div>\n",
       "<style scoped>\n",
       "    .dataframe tbody tr th:only-of-type {\n",
       "        vertical-align: middle;\n",
       "    }\n",
       "\n",
       "    .dataframe tbody tr th {\n",
       "        vertical-align: top;\n",
       "    }\n",
       "\n",
       "    .dataframe thead th {\n",
       "        text-align: right;\n",
       "    }\n",
       "</style>\n",
       "<table border=\"1\" class=\"dataframe\">\n",
       "  <thead>\n",
       "    <tr style=\"text-align: right;\">\n",
       "      <th></th>\n",
       "      <th>98.6</th>\n",
       "    </tr>\n",
       "  </thead>\n",
       "  <tbody>\n",
       "    <tr>\n",
       "      <th>0</th>\n",
       "      <td>98.6</td>\n",
       "    </tr>\n",
       "    <tr>\n",
       "      <th>1</th>\n",
       "      <td>98.6</td>\n",
       "    </tr>\n",
       "    <tr>\n",
       "      <th>2</th>\n",
       "      <td>98.6</td>\n",
       "    </tr>\n",
       "    <tr>\n",
       "      <th>3</th>\n",
       "      <td>98.1</td>\n",
       "    </tr>\n",
       "    <tr>\n",
       "      <th>4</th>\n",
       "      <td>97.5</td>\n",
       "    </tr>\n",
       "  </tbody>\n",
       "</table>\n",
       "</div>"
      ],
      "text/plain": [
       "   98.6\n",
       "0  98.6\n",
       "1  98.6\n",
       "2  98.6\n",
       "3  98.1\n",
       "4  97.5"
      ]
     },
     "execution_count": 316,
     "metadata": {},
     "output_type": "execute_result"
    }
   ],
   "source": [
    "#Cell for visualizing the first 5 rows of the o2Saturation datset\n",
    "o2SaturationDf.head(5)"
   ]
  },
  {
   "cell_type": "markdown",
   "metadata": {},
   "source": [
    "Q1: Now, we will familirize us with both the datasets so please print the shapes of both the datsets in the cell below and assign them to `heartDfShape` & `o2DfShape` respectively."
   ]
  },
  {
   "cell_type": "code",
   "execution_count": 317,
   "metadata": {},
   "outputs": [],
   "source": [
    "#Use this markdown to get yourself familiriaze with the dataset\n",
    "heartDfShape = heartDf.shape\n",
    "o2DfShape = o2SaturationDf.shape"
   ]
  },
  {
   "cell_type": "code",
   "execution_count": 318,
   "metadata": {},
   "outputs": [
    {
     "data": {
      "text/html": [
       "<p><strong><pre style='display: inline;'>Q1</pre></strong> passed!</p>"
      ],
      "text/plain": [
       "Q1 results: All test cases passed!"
      ]
     },
     "execution_count": 318,
     "metadata": {},
     "output_type": "execute_result"
    }
   ],
   "source": [
    "grader.check(\"Q1\")"
   ]
  },
  {
   "cell_type": "markdown",
   "metadata": {},
   "source": [
    "Q2: Now that we know the shapes of both the datsets check if null values are present in both the datsets by writing a relevant code snippet that would do the job for you. Store the null values if any in the variables `heartDfNull` & `o2DfNull` respectively."
   ]
  },
  {
   "cell_type": "code",
   "execution_count": 319,
   "metadata": {},
   "outputs": [],
   "source": [
    "#Please write your code below\n",
    "heartDfNull = heartDf.isna().sum().sum()\n",
    "o2DfNull = o2SaturationDf.isna().sum().sum()"
   ]
  },
  {
   "cell_type": "code",
   "execution_count": 320,
   "metadata": {},
   "outputs": [
    {
     "data": {
      "text/html": [
       "<p><strong><pre style='display: inline;'>Q2</pre></strong> passed!</p>"
      ],
      "text/plain": [
       "Q2 results: All test cases passed!"
      ]
     },
     "execution_count": 320,
     "metadata": {},
     "output_type": "execute_result"
    }
   ],
   "source": [
    "grader.check(\"Q2\")"
   ]
  },
  {
   "cell_type": "markdown",
   "metadata": {},
   "source": [
    "Q3: Check both `heartDf` & `o2SaturationDf` for the presence of null values (missing values) and drop the rows by writing a valid code snippet below. "
   ]
  },
  {
   "cell_type": "code",
   "execution_count": 321,
   "metadata": {},
   "outputs": [],
   "source": [
    "# Please write your code below\n",
    "heartDf = heartDf.dropna()\n",
    "o2SaturationDf = o2SaturationDf.dropna()"
   ]
  },
  {
   "cell_type": "code",
   "execution_count": 322,
   "metadata": {},
   "outputs": [
    {
     "data": {
      "text/html": [
       "<p><strong><pre style='display: inline;'>Q3</pre></strong> passed!</p>"
      ],
      "text/plain": [
       "Q3 results: All test cases passed!"
      ]
     },
     "execution_count": 322,
     "metadata": {},
     "output_type": "execute_result"
    }
   ],
   "source": [
    "grader.check(\"Q3\")"
   ]
  },
  {
   "cell_type": "markdown",
   "metadata": {},
   "source": [
    "Q4: Let us now, rename columns before we merge the both the dataset so that we can make more sense out of the data and comprehend it in a better way. The following column changes must be reflected in both the dataframes.\n",
    "<h4>For Heart Dataset</h4>\n",
    "<ul>\n",
    "<li>exng -> exercise induced angina</li>\n",
    "<li>caa -> # of major vessels</li>\n",
    "<li>cp -> chest pain type </li>\n",
    "<li>trtbps -> resting blood pressure</li>\n",
    "<li>chol -> cholestrol levels</li>\n",
    "<li>restecg -> resting electrocardiographic </li> \n",
    "<li>thalachh-> maximum heart rate</li>\n",
    "<li>fbs-> fasting blood Pressure </li>\n",
    "<li>oldpeak -> old peak </li>\n",
    "</ul>\n",
    "<h4>For O2 Saturation Dataset </h4>\n",
    "<ul>\n",
    "<li>98.6 -> O2 saturation</li>\n",
    "</ul>\n",
    "\n",
    "You also need to drop the columns named as `thall` & `slp`  inside the `heartDf` dataframe."
   ]
  },
  {
   "cell_type": "code",
   "execution_count": 323,
   "metadata": {},
   "outputs": [],
   "source": [
    "#Please write your code below\n",
    "heartDf.rename(columns={\n",
    "    \"exng\":\"exercise induced angina\",\n",
    "    \"caa\":\"number of major vessels\",\n",
    "    \"cp\":\"chest pain type\",\n",
    "    \"trtbps\":\"resting blood pressure\",\n",
    "    \"chol\":\"cholestrol levels\",\n",
    "    \"restecg\":\"resting electrocardiographic\",\n",
    "    \"thalachh\":\"maximum heart rate\",\n",
    "    \"fbs\":\"fasting blood sugar\",\n",
    "    \"oldpeak\":\"old peak\"\n",
    "    }, inplace=True)\n",
    "\n",
    "o2SaturationDf.rename(columns={\"98.6\":\"O2 saturation\"}, inplace=True)\n",
    "\n",
    "heartDf.drop([\"thall\", \"slp\"], axis=1, inplace=True)"
   ]
  },
  {
   "cell_type": "code",
   "execution_count": 324,
   "metadata": {},
   "outputs": [
    {
     "data": {
      "text/html": [
       "<p><strong><pre style='display: inline;'>Q4</pre></strong> passed!</p>"
      ],
      "text/plain": [
       "Q4 results: All test cases passed!"
      ]
     },
     "execution_count": 324,
     "metadata": {},
     "output_type": "execute_result"
    }
   ],
   "source": [
    "grader.check(\"Q4\")"
   ]
  },
  {
   "cell_type": "markdown",
   "metadata": {},
   "source": [
    "Q5: Peform a relevant form of a join so that we can better compare our results and reach an appropriate conclusion. Store the answer in `mergedDf` variable."
   ]
  },
  {
   "cell_type": "code",
   "execution_count": 325,
   "metadata": {},
   "outputs": [
    {
     "data": {
      "text/html": [
       "<div>\n",
       "<style scoped>\n",
       "    .dataframe tbody tr th:only-of-type {\n",
       "        vertical-align: middle;\n",
       "    }\n",
       "\n",
       "    .dataframe tbody tr th {\n",
       "        vertical-align: top;\n",
       "    }\n",
       "\n",
       "    .dataframe thead th {\n",
       "        text-align: right;\n",
       "    }\n",
       "</style>\n",
       "<table border=\"1\" class=\"dataframe\">\n",
       "  <thead>\n",
       "    <tr style=\"text-align: right;\">\n",
       "      <th></th>\n",
       "      <th>age</th>\n",
       "      <th>sex</th>\n",
       "      <th>chest pain type</th>\n",
       "      <th>resting blood pressure</th>\n",
       "      <th>cholestrol levels</th>\n",
       "      <th>fasting blood sugar</th>\n",
       "      <th>resting electrocardiographic</th>\n",
       "      <th>maximum heart rate</th>\n",
       "      <th>exercise induced angina</th>\n",
       "      <th>old peak</th>\n",
       "      <th>number of major vessels</th>\n",
       "      <th>output</th>\n",
       "      <th>O2 saturation</th>\n",
       "    </tr>\n",
       "  </thead>\n",
       "  <tbody>\n",
       "    <tr>\n",
       "      <th>0</th>\n",
       "      <td>63</td>\n",
       "      <td>1</td>\n",
       "      <td>3</td>\n",
       "      <td>145.0</td>\n",
       "      <td>233.0</td>\n",
       "      <td>1</td>\n",
       "      <td>0</td>\n",
       "      <td>150.0</td>\n",
       "      <td>0</td>\n",
       "      <td>2.3</td>\n",
       "      <td>0</td>\n",
       "      <td>1</td>\n",
       "      <td>98.6</td>\n",
       "    </tr>\n",
       "    <tr>\n",
       "      <th>1</th>\n",
       "      <td>37</td>\n",
       "      <td>1</td>\n",
       "      <td>2</td>\n",
       "      <td>130.0</td>\n",
       "      <td>250.0</td>\n",
       "      <td>0</td>\n",
       "      <td>1</td>\n",
       "      <td>187.0</td>\n",
       "      <td>0</td>\n",
       "      <td>3.5</td>\n",
       "      <td>0</td>\n",
       "      <td>1</td>\n",
       "      <td>98.6</td>\n",
       "    </tr>\n",
       "    <tr>\n",
       "      <th>2</th>\n",
       "      <td>41</td>\n",
       "      <td>0</td>\n",
       "      <td>1</td>\n",
       "      <td>130.0</td>\n",
       "      <td>204.0</td>\n",
       "      <td>0</td>\n",
       "      <td>0</td>\n",
       "      <td>172.0</td>\n",
       "      <td>0</td>\n",
       "      <td>1.4</td>\n",
       "      <td>0</td>\n",
       "      <td>1</td>\n",
       "      <td>98.6</td>\n",
       "    </tr>\n",
       "    <tr>\n",
       "      <th>3</th>\n",
       "      <td>56</td>\n",
       "      <td>1</td>\n",
       "      <td>1</td>\n",
       "      <td>120.0</td>\n",
       "      <td>236.0</td>\n",
       "      <td>0</td>\n",
       "      <td>1</td>\n",
       "      <td>178.0</td>\n",
       "      <td>0</td>\n",
       "      <td>0.8</td>\n",
       "      <td>0</td>\n",
       "      <td>1</td>\n",
       "      <td>98.1</td>\n",
       "    </tr>\n",
       "    <tr>\n",
       "      <th>4</th>\n",
       "      <td>57</td>\n",
       "      <td>0</td>\n",
       "      <td>0</td>\n",
       "      <td>120.0</td>\n",
       "      <td>354.0</td>\n",
       "      <td>0</td>\n",
       "      <td>1</td>\n",
       "      <td>163.0</td>\n",
       "      <td>1</td>\n",
       "      <td>0.6</td>\n",
       "      <td>0</td>\n",
       "      <td>1</td>\n",
       "      <td>97.5</td>\n",
       "    </tr>\n",
       "    <tr>\n",
       "      <th>...</th>\n",
       "      <td>...</td>\n",
       "      <td>...</td>\n",
       "      <td>...</td>\n",
       "      <td>...</td>\n",
       "      <td>...</td>\n",
       "      <td>...</td>\n",
       "      <td>...</td>\n",
       "      <td>...</td>\n",
       "      <td>...</td>\n",
       "      <td>...</td>\n",
       "      <td>...</td>\n",
       "      <td>...</td>\n",
       "      <td>...</td>\n",
       "    </tr>\n",
       "    <tr>\n",
       "      <th>298</th>\n",
       "      <td>57</td>\n",
       "      <td>0</td>\n",
       "      <td>0</td>\n",
       "      <td>140.0</td>\n",
       "      <td>241.0</td>\n",
       "      <td>0</td>\n",
       "      <td>1</td>\n",
       "      <td>123.0</td>\n",
       "      <td>1</td>\n",
       "      <td>0.2</td>\n",
       "      <td>0</td>\n",
       "      <td>0</td>\n",
       "      <td>97.5</td>\n",
       "    </tr>\n",
       "    <tr>\n",
       "      <th>299</th>\n",
       "      <td>45</td>\n",
       "      <td>1</td>\n",
       "      <td>3</td>\n",
       "      <td>110.0</td>\n",
       "      <td>264.0</td>\n",
       "      <td>0</td>\n",
       "      <td>1</td>\n",
       "      <td>132.0</td>\n",
       "      <td>0</td>\n",
       "      <td>1.2</td>\n",
       "      <td>0</td>\n",
       "      <td>0</td>\n",
       "      <td>97.5</td>\n",
       "    </tr>\n",
       "    <tr>\n",
       "      <th>300</th>\n",
       "      <td>68</td>\n",
       "      <td>1</td>\n",
       "      <td>0</td>\n",
       "      <td>144.0</td>\n",
       "      <td>193.0</td>\n",
       "      <td>1</td>\n",
       "      <td>1</td>\n",
       "      <td>141.0</td>\n",
       "      <td>0</td>\n",
       "      <td>3.4</td>\n",
       "      <td>2</td>\n",
       "      <td>0</td>\n",
       "      <td>97.5</td>\n",
       "    </tr>\n",
       "    <tr>\n",
       "      <th>301</th>\n",
       "      <td>57</td>\n",
       "      <td>1</td>\n",
       "      <td>0</td>\n",
       "      <td>130.0</td>\n",
       "      <td>131.0</td>\n",
       "      <td>0</td>\n",
       "      <td>1</td>\n",
       "      <td>115.0</td>\n",
       "      <td>1</td>\n",
       "      <td>1.2</td>\n",
       "      <td>1</td>\n",
       "      <td>0</td>\n",
       "      <td>97.5</td>\n",
       "    </tr>\n",
       "    <tr>\n",
       "      <th>302</th>\n",
       "      <td>57</td>\n",
       "      <td>0</td>\n",
       "      <td>1</td>\n",
       "      <td>130.0</td>\n",
       "      <td>236.0</td>\n",
       "      <td>0</td>\n",
       "      <td>0</td>\n",
       "      <td>174.0</td>\n",
       "      <td>0</td>\n",
       "      <td>0.0</td>\n",
       "      <td>1</td>\n",
       "      <td>0</td>\n",
       "      <td>98.5</td>\n",
       "    </tr>\n",
       "  </tbody>\n",
       "</table>\n",
       "<p>303 rows × 13 columns</p>\n",
       "</div>"
      ],
      "text/plain": [
       "     age  sex  chest pain type  resting blood pressure  cholestrol levels  \\\n",
       "0     63    1                3                   145.0              233.0   \n",
       "1     37    1                2                   130.0              250.0   \n",
       "2     41    0                1                   130.0              204.0   \n",
       "3     56    1                1                   120.0              236.0   \n",
       "4     57    0                0                   120.0              354.0   \n",
       "..   ...  ...              ...                     ...                ...   \n",
       "298   57    0                0                   140.0              241.0   \n",
       "299   45    1                3                   110.0              264.0   \n",
       "300   68    1                0                   144.0              193.0   \n",
       "301   57    1                0                   130.0              131.0   \n",
       "302   57    0                1                   130.0              236.0   \n",
       "\n",
       "     fasting blood sugar  resting electrocardiographic  maximum heart rate  \\\n",
       "0                      1                             0               150.0   \n",
       "1                      0                             1               187.0   \n",
       "2                      0                             0               172.0   \n",
       "3                      0                             1               178.0   \n",
       "4                      0                             1               163.0   \n",
       "..                   ...                           ...                 ...   \n",
       "298                    0                             1               123.0   \n",
       "299                    0                             1               132.0   \n",
       "300                    1                             1               141.0   \n",
       "301                    0                             1               115.0   \n",
       "302                    0                             0               174.0   \n",
       "\n",
       "     exercise induced angina  old peak  number of major vessels  output  \\\n",
       "0                          0       2.3                        0       1   \n",
       "1                          0       3.5                        0       1   \n",
       "2                          0       1.4                        0       1   \n",
       "3                          0       0.8                        0       1   \n",
       "4                          1       0.6                        0       1   \n",
       "..                       ...       ...                      ...     ...   \n",
       "298                        1       0.2                        0       0   \n",
       "299                        0       1.2                        0       0   \n",
       "300                        0       3.4                        2       0   \n",
       "301                        1       1.2                        1       0   \n",
       "302                        0       0.0                        1       0   \n",
       "\n",
       "     O2 saturation  \n",
       "0             98.6  \n",
       "1             98.6  \n",
       "2             98.6  \n",
       "3             98.1  \n",
       "4             97.5  \n",
       "..             ...  \n",
       "298           97.5  \n",
       "299           97.5  \n",
       "300           97.5  \n",
       "301           97.5  \n",
       "302           98.5  \n",
       "\n",
       "[303 rows x 13 columns]"
      ]
     },
     "execution_count": 325,
     "metadata": {},
     "output_type": "execute_result"
    }
   ],
   "source": [
    "mergedDf = heartDf.merge(o2SaturationDf, left_index=True, right_index=True)\n",
    "mergedDf"
   ]
  },
  {
   "cell_type": "code",
   "execution_count": 326,
   "metadata": {},
   "outputs": [
    {
     "data": {
      "text/html": [
       "<p><strong><pre style='display: inline;'>Q5</pre></strong> passed!</p>"
      ],
      "text/plain": [
       "Q5 results: All test cases passed!"
      ]
     },
     "execution_count": 326,
     "metadata": {},
     "output_type": "execute_result"
    }
   ],
   "source": [
    "grader.check(\"Q5\")"
   ]
  },
  {
   "cell_type": "markdown",
   "metadata": {},
   "source": [
    "Q6: Now let us start analysing data by first counting the number of individuals that fall into the following age groups:\n",
    "<ul>\n",
    "<li>Below 40 years of age</li>\n",
    "<li>In the range of 40-50 years of age</li>\n",
    "<li>In the range of 50-60 years of age</li>\n",
    "<li>In the range of 60-70 years of age</li>\n",
    "<li>70 or above years of age</li>\n",
    "</ul>\n",
    "<b>Note: </b> Only the lower bound is inclusive in the above age group range. You are to store the results in the variables given in the cell below."
   ]
  },
  {
   "cell_type": "code",
   "execution_count": 327,
   "metadata": {},
   "outputs": [],
   "source": [
    "#Store the variables in the same order as given above\n",
    "belowForty = mergedDf[mergedDf[\"age\"] < 40]\n",
    "ageBtwRange1 = mergedDf[(mergedDf[\"age\"] >= 40) & (mergedDf[\"age\"] < 50)]\n",
    "ageBtwRange2 = mergedDf[(mergedDf[\"age\"] >= 50) & (mergedDf[\"age\"] < 60)]\n",
    "ageBtwRange3 = mergedDf[(mergedDf[\"age\"] >= 60) & (mergedDf[\"age\"] < 70)]\n",
    "aboveSeventy = mergedDf[mergedDf[\"age\"] >= 70]"
   ]
  },
  {
   "cell_type": "code",
   "execution_count": 328,
   "metadata": {},
   "outputs": [
    {
     "data": {
      "text/html": [
       "<p><strong><pre style='display: inline;'>Q6</pre></strong> passed!</p>"
      ],
      "text/plain": [
       "Q6 results: All test cases passed!"
      ]
     },
     "execution_count": 328,
     "metadata": {},
     "output_type": "execute_result"
    }
   ],
   "source": [
    "grader.check(\"Q6\")"
   ]
  },
  {
   "cell_type": "markdown",
   "metadata": {},
   "source": [
    "Q7: Is the average resting blood pressure of individuals in the (Above 70 age group) greater or smaller than the resting blood pressure of inviduals that are below 40 years old ? <br/>\n",
    "Store the result in `meanOfAboveSeventy` & `meanOfBelowForty` variables. <br/> Also the variable `q7Answer` must contain a string such as a 'Yes' or 'No' as the test cases check for it. <br>\n",
    "<b>Note: </b>You are not allowed to use the mean() method but rather calculate the mean mathematically."
   ]
  },
  {
   "cell_type": "code",
   "execution_count": 329,
   "metadata": {},
   "outputs": [],
   "source": [
    "#Please write your code below\n",
    "meanOfAboveSeventy = aboveSeventy[\"resting blood pressure\"].sum() / aboveSeventy[\"resting blood pressure\"].shape[0]\n",
    "meanOfBelowForty = belowForty[\"resting blood pressure\"].sum() / belowForty[\"resting blood pressure\"].shape[0]\n",
    "q7Answer = \"Yes\"\n",
    "if meanOfAboveSeventy < meanOfBelowForty:\n",
    "    q7Answer = \"No\""
   ]
  },
  {
   "cell_type": "code",
   "execution_count": 330,
   "metadata": {},
   "outputs": [
    {
     "data": {
      "text/html": [
       "<p><strong><pre style='display: inline;'>Q7</pre></strong> passed!</p>"
      ],
      "text/plain": [
       "Q7 results: All test cases passed!"
      ]
     },
     "execution_count": 330,
     "metadata": {},
     "output_type": "execute_result"
    }
   ],
   "source": [
    "grader.check(\"Q7\")"
   ]
  },
  {
   "cell_type": "markdown",
   "metadata": {},
   "source": [
    "Q8: What is the most occuring value for oxygen saturation in individuals that fall into the age group of 50-60 ? <br>\n",
    "Store the value in the variable `frequentO2Saturation`."
   ]
  },
  {
   "cell_type": "code",
   "execution_count": 331,
   "metadata": {},
   "outputs": [
    {
     "data": {
      "text/plain": [
       "97.5"
      ]
     },
     "execution_count": 331,
     "metadata": {},
     "output_type": "execute_result"
    }
   ],
   "source": [
    "#Please write your code below\n",
    "frequentO2Saturation = ageBtwRange2[\"O2 saturation\"].mode()[0]\n",
    "frequentO2Saturation"
   ]
  },
  {
   "cell_type": "code",
   "execution_count": 332,
   "metadata": {},
   "outputs": [
    {
     "data": {
      "text/html": [
       "<p><strong><pre style='display: inline;'>Q8</pre></strong> passed!</p>"
      ],
      "text/plain": [
       "Q8 results: All test cases passed!"
      ]
     },
     "execution_count": 332,
     "metadata": {},
     "output_type": "execute_result"
    }
   ],
   "source": [
    "grader.check(\"Q8\")"
   ]
  },
  {
   "cell_type": "markdown",
   "metadata": {},
   "source": [
    "Q9: Can you specify which type of chest pain is observed by most people who are in the age group of 50-60? <br>So if the most observed chest pain turns out to be `1` then your final variable `mostObservedChestPain` should contain the value `Atypical anigma` in this very case.\n",
    "<ul>\n",
    "<li>Value 0 -> Typical anigma</li>\n",
    "<li>Value 1 -> Atypical anigma</li>\n",
    "<li>Value 2 -> Non anigmal pain</li>\n",
    "<li>Value 3 -> Asymptomatic</li> \n",
    "</ul>"
   ]
  },
  {
   "cell_type": "code",
   "execution_count": 333,
   "metadata": {},
   "outputs": [],
   "source": [
    "#Please write your code below\n",
    "mostObeservedChestPain = ageBtwRange2[\"chest pain type\"].mode()[0]\n",
    "pain_mappings = {0:\"Typical anigma\", 1:\"Atypical anigma\", 2:\"Non anigmal pain\", 3:\"Asymptomatic\"}\n",
    "mostObeservedChestPain = pain_mappings[mostObeservedChestPain]"
   ]
  },
  {
   "cell_type": "code",
   "execution_count": 334,
   "metadata": {},
   "outputs": [
    {
     "data": {
      "text/html": [
       "<p><strong><pre style='display: inline;'>Q9</pre></strong> passed!</p>"
      ],
      "text/plain": [
       "Q9 results: All test cases passed!"
      ]
     },
     "execution_count": 334,
     "metadata": {},
     "output_type": "execute_result"
    }
   ],
   "source": [
    "grader.check(\"Q9\")"
   ]
  },
  {
   "cell_type": "markdown",
   "metadata": {},
   "source": [
    "Q10: Calculate the <b>median</b> cholestrol levels for all the age groups and visualize the result by making use of a suitable visualization.<br>\n",
    "<b>Note: </b> Here the variable `listOfDf` contains all the age groups that you have previously calculated in question <b>6</b>."
   ]
  },
  {
   "cell_type": "code",
   "execution_count": 349,
   "metadata": {},
   "outputs": [
    {
     "data": {
      "text/plain": [
       "Text(0, 0.5, 'Median Cholestrol Level')"
      ]
     },
     "execution_count": 349,
     "metadata": {},
     "output_type": "execute_result"
    },
    {
     "data": {
      "image/png": "[encoded data removed]",
      "text/plain": [
       "<Figure size 432x288 with 1 Axes>"
      ]
     },
     "metadata": {
      "needs_background": "light"
     },
     "output_type": "display_data"
    }
   ],
   "source": [
    "#Please write your code below\n",
    "listOfDf = [belowForty, ageBtwRange1, ageBtwRange2, ageBtwRange3, aboveSeventy]\n",
    "medianOfAllCholLevels = []\n",
    "for group in listOfDf:\n",
    "    group = group[\"cholestrol levels\"]\n",
    "    medianOfAllCholLevels.append(group.median())\n",
    "\n",
    "labels = [\"<40\",\"40-50\",\"50-60\",\"60-70\",\">70\"]\n",
    "plt.bar(labels, medianOfAllCholLevels)\n",
    "plt.title(\"Median Cholestrol Levels for Different Age Ranges\")\n",
    "plt.xlabel(\"Age Range\")\n",
    "plt.ylabel(\"Median Cholestrol Level\")"
   ]
  },
  {
   "cell_type": "code",
   "execution_count": 336,
   "metadata": {},
   "outputs": [
    {
     "data": {
      "text/html": [
       "<p><strong><pre style='display: inline;'>Q10</pre></strong> passed!</p>"
      ],
      "text/plain": [
       "Q10 results: All test cases passed!"
      ]
     },
     "execution_count": 336,
     "metadata": {},
     "output_type": "execute_result"
    }
   ],
   "source": [
    "grader.check(\"Q10\")"
   ]
  },
  {
   "cell_type": "markdown",
   "metadata": {},
   "source": [
    "Q11: Now let us explore the use of pivot tables, you are to construct a pivot table which would count the number of male and female individuals which are suffering from the various chest pains as mentioned above in one of the previous cells.\n",
    "<br> Also you need to change the 0 and 1s in the `sex` column to `Female` and `Male` respectively"
   ]
  },
  {
   "cell_type": "code",
   "execution_count": 337,
   "metadata": {},
   "outputs": [
    {
     "data": {
      "text/html": [
       "<div>\n",
       "<style scoped>\n",
       "    .dataframe tbody tr th:only-of-type {\n",
       "        vertical-align: middle;\n",
       "    }\n",
       "\n",
       "    .dataframe tbody tr th {\n",
       "        vertical-align: top;\n",
       "    }\n",
       "\n",
       "    .dataframe thead th {\n",
       "        text-align: right;\n",
       "    }\n",
       "</style>\n",
       "<table border=\"1\" class=\"dataframe\">\n",
       "  <thead>\n",
       "    <tr style=\"text-align: right;\">\n",
       "      <th>sex</th>\n",
       "      <th>Female</th>\n",
       "      <th>Male</th>\n",
       "    </tr>\n",
       "    <tr>\n",
       "      <th>chest pain type</th>\n",
       "      <th></th>\n",
       "      <th></th>\n",
       "    </tr>\n",
       "  </thead>\n",
       "  <tbody>\n",
       "    <tr>\n",
       "      <th>0</th>\n",
       "      <td>39</td>\n",
       "      <td>104</td>\n",
       "    </tr>\n",
       "    <tr>\n",
       "      <th>1</th>\n",
       "      <td>18</td>\n",
       "      <td>32</td>\n",
       "    </tr>\n",
       "    <tr>\n",
       "      <th>2</th>\n",
       "      <td>35</td>\n",
       "      <td>52</td>\n",
       "    </tr>\n",
       "    <tr>\n",
       "      <th>3</th>\n",
       "      <td>4</td>\n",
       "      <td>19</td>\n",
       "    </tr>\n",
       "  </tbody>\n",
       "</table>\n",
       "</div>"
      ],
      "text/plain": [
       "sex              Female  Male\n",
       "chest pain type              \n",
       "0                    39   104\n",
       "1                    18    32\n",
       "2                    35    52\n",
       "3                     4    19"
      ]
     },
     "execution_count": 337,
     "metadata": {},
     "output_type": "execute_result"
    }
   ],
   "source": [
    "#Please write your code below\n",
    "pivotTableDf = mergedDf\n",
    "pivotTableDf[\"sex\"] = pivotTableDf[\"sex\"].replace([0,1], [\"Female\", \"Male\"])\n",
    "pivotTable = pivotTableDf.pivot_table(\n",
    "    index=\"chest pain type\",\n",
    "    columns=\"sex\",\n",
    "    values=\"output\",\n",
    "    aggfunc = \"count\"\n",
    ")\n",
    "pivotTable"
   ]
  },
  {
   "cell_type": "code",
   "execution_count": 338,
   "metadata": {},
   "outputs": [
    {
     "data": {
      "text/html": [
       "<p><strong><pre style='display: inline;'>Q11</pre></strong> passed!</p>"
      ],
      "text/plain": [
       "Q11 results: All test cases passed!"
      ]
     },
     "execution_count": 338,
     "metadata": {},
     "output_type": "execute_result"
    }
   ],
   "source": [
    "grader.check(\"Q11\")"
   ]
  },
  {
   "cell_type": "markdown",
   "metadata": {},
   "source": [
    "Q12: Using a suitable representation, represent the proportion of males and females who are diagnosed with exercise induced angina. <br/>\n",
    "<b>Note:</b> 1 means they have exercise induced angina whereas 0 means they do not. "
   ]
  },
  {
   "cell_type": "code",
   "execution_count": 339,
   "metadata": {},
   "outputs": [
    {
     "data": {
      "text/html": [
       "<div>\n",
       "<style scoped>\n",
       "    .dataframe tbody tr th:only-of-type {\n",
       "        vertical-align: middle;\n",
       "    }\n",
       "\n",
       "    .dataframe tbody tr th {\n",
       "        vertical-align: top;\n",
       "    }\n",
       "\n",
       "    .dataframe thead th {\n",
       "        text-align: right;\n",
       "    }\n",
       "</style>\n",
       "<table border=\"1\" class=\"dataframe\">\n",
       "  <thead>\n",
       "    <tr style=\"text-align: right;\">\n",
       "      <th></th>\n",
       "      <th>age</th>\n",
       "      <th>chest pain type</th>\n",
       "      <th>resting blood pressure</th>\n",
       "      <th>cholestrol levels</th>\n",
       "      <th>fasting blood sugar</th>\n",
       "      <th>resting electrocardiographic</th>\n",
       "      <th>maximum heart rate</th>\n",
       "      <th>exercise induced angina</th>\n",
       "      <th>old peak</th>\n",
       "      <th>number of major vessels</th>\n",
       "      <th>output</th>\n",
       "      <th>O2 saturation</th>\n",
       "    </tr>\n",
       "    <tr>\n",
       "      <th>sex</th>\n",
       "      <th></th>\n",
       "      <th></th>\n",
       "      <th></th>\n",
       "      <th></th>\n",
       "      <th></th>\n",
       "      <th></th>\n",
       "      <th></th>\n",
       "      <th></th>\n",
       "      <th></th>\n",
       "      <th></th>\n",
       "      <th></th>\n",
       "      <th></th>\n",
       "    </tr>\n",
       "  </thead>\n",
       "  <tbody>\n",
       "    <tr>\n",
       "      <th>Female</th>\n",
       "      <td>22</td>\n",
       "      <td>22</td>\n",
       "      <td>22</td>\n",
       "      <td>22</td>\n",
       "      <td>22</td>\n",
       "      <td>22</td>\n",
       "      <td>22</td>\n",
       "      <td>22</td>\n",
       "      <td>22</td>\n",
       "      <td>22</td>\n",
       "      <td>22</td>\n",
       "      <td>22</td>\n",
       "    </tr>\n",
       "    <tr>\n",
       "      <th>Male</th>\n",
       "      <td>77</td>\n",
       "      <td>77</td>\n",
       "      <td>77</td>\n",
       "      <td>77</td>\n",
       "      <td>77</td>\n",
       "      <td>77</td>\n",
       "      <td>77</td>\n",
       "      <td>77</td>\n",
       "      <td>77</td>\n",
       "      <td>77</td>\n",
       "      <td>77</td>\n",
       "      <td>77</td>\n",
       "    </tr>\n",
       "  </tbody>\n",
       "</table>\n",
       "</div>"
      ],
      "text/plain": [
       "        age  chest pain type  resting blood pressure  cholestrol levels  \\\n",
       "sex                                                                       \n",
       "Female   22               22                      22                 22   \n",
       "Male     77               77                      77                 77   \n",
       "\n",
       "        fasting blood sugar  resting electrocardiographic  maximum heart rate  \\\n",
       "sex                                                                             \n",
       "Female                   22                            22                  22   \n",
       "Male                     77                            77                  77   \n",
       "\n",
       "        exercise induced angina  old peak  number of major vessels  output  \\\n",
       "sex                                                                          \n",
       "Female                       22        22                       22      22   \n",
       "Male                         77        77                       77      77   \n",
       "\n",
       "        O2 saturation  \n",
       "sex                    \n",
       "Female             22  \n",
       "Male               77  "
      ]
     },
     "execution_count": 339,
     "metadata": {},
     "output_type": "execute_result"
    }
   ],
   "source": [
    "#Please write your code below\n",
    "exerciseInducedAnginaDf = mergedDf[mergedDf[\"exercise induced angina\"] == 1]\n",
    "q12Answer = exerciseInducedAnginaDf.groupby(\"sex\").count()\n",
    "q12Answer"
   ]
  },
  {
   "cell_type": "code",
   "execution_count": 340,
   "metadata": {},
   "outputs": [
    {
     "data": {
      "text/html": [
       "<p><strong><pre style='display: inline;'>Q12</pre></strong> passed!</p>"
      ],
      "text/plain": [
       "Q12 results: All test cases passed!"
      ]
     },
     "execution_count": 340,
     "metadata": {},
     "output_type": "execute_result"
    }
   ],
   "source": [
    "grader.check(\"Q12\")"
   ]
  },
  {
   "cell_type": "markdown",
   "metadata": {},
   "source": [
    "Q13: Now we will replace the 0 and 1s in the `fasting blood sugar` column into \"No\" & \"Yes\" respectively. Write a code snippet in the cell below that does the job for you."
   ]
  },
  {
   "cell_type": "code",
   "execution_count": 341,
   "metadata": {},
   "outputs": [
    {
     "data": {
      "text/html": [
       "<div>\n",
       "<style scoped>\n",
       "    .dataframe tbody tr th:only-of-type {\n",
       "        vertical-align: middle;\n",
       "    }\n",
       "\n",
       "    .dataframe tbody tr th {\n",
       "        vertical-align: top;\n",
       "    }\n",
       "\n",
       "    .dataframe thead th {\n",
       "        text-align: right;\n",
       "    }\n",
       "</style>\n",
       "<table border=\"1\" class=\"dataframe\">\n",
       "  <thead>\n",
       "    <tr style=\"text-align: right;\">\n",
       "      <th></th>\n",
       "      <th>age</th>\n",
       "      <th>sex</th>\n",
       "      <th>chest pain type</th>\n",
       "      <th>resting blood pressure</th>\n",
       "      <th>cholestrol levels</th>\n",
       "      <th>fasting blood sugar</th>\n",
       "      <th>resting electrocardiographic</th>\n",
       "      <th>maximum heart rate</th>\n",
       "      <th>exercise induced angina</th>\n",
       "      <th>old peak</th>\n",
       "      <th>number of major vessels</th>\n",
       "      <th>output</th>\n",
       "      <th>O2 saturation</th>\n",
       "    </tr>\n",
       "  </thead>\n",
       "  <tbody>\n",
       "    <tr>\n",
       "      <th>0</th>\n",
       "      <td>63</td>\n",
       "      <td>Male</td>\n",
       "      <td>3</td>\n",
       "      <td>145.0</td>\n",
       "      <td>233.0</td>\n",
       "      <td>Yes</td>\n",
       "      <td>0</td>\n",
       "      <td>150.0</td>\n",
       "      <td>0</td>\n",
       "      <td>2.3</td>\n",
       "      <td>0</td>\n",
       "      <td>1</td>\n",
       "      <td>98.6</td>\n",
       "    </tr>\n",
       "    <tr>\n",
       "      <th>1</th>\n",
       "      <td>37</td>\n",
       "      <td>Male</td>\n",
       "      <td>2</td>\n",
       "      <td>130.0</td>\n",
       "      <td>250.0</td>\n",
       "      <td>No</td>\n",
       "      <td>1</td>\n",
       "      <td>187.0</td>\n",
       "      <td>0</td>\n",
       "      <td>3.5</td>\n",
       "      <td>0</td>\n",
       "      <td>1</td>\n",
       "      <td>98.6</td>\n",
       "    </tr>\n",
       "    <tr>\n",
       "      <th>2</th>\n",
       "      <td>41</td>\n",
       "      <td>Female</td>\n",
       "      <td>1</td>\n",
       "      <td>130.0</td>\n",
       "      <td>204.0</td>\n",
       "      <td>No</td>\n",
       "      <td>0</td>\n",
       "      <td>172.0</td>\n",
       "      <td>0</td>\n",
       "      <td>1.4</td>\n",
       "      <td>0</td>\n",
       "      <td>1</td>\n",
       "      <td>98.6</td>\n",
       "    </tr>\n",
       "    <tr>\n",
       "      <th>3</th>\n",
       "      <td>56</td>\n",
       "      <td>Male</td>\n",
       "      <td>1</td>\n",
       "      <td>120.0</td>\n",
       "      <td>236.0</td>\n",
       "      <td>No</td>\n",
       "      <td>1</td>\n",
       "      <td>178.0</td>\n",
       "      <td>0</td>\n",
       "      <td>0.8</td>\n",
       "      <td>0</td>\n",
       "      <td>1</td>\n",
       "      <td>98.1</td>\n",
       "    </tr>\n",
       "    <tr>\n",
       "      <th>4</th>\n",
       "      <td>57</td>\n",
       "      <td>Female</td>\n",
       "      <td>0</td>\n",
       "      <td>120.0</td>\n",
       "      <td>354.0</td>\n",
       "      <td>No</td>\n",
       "      <td>1</td>\n",
       "      <td>163.0</td>\n",
       "      <td>1</td>\n",
       "      <td>0.6</td>\n",
       "      <td>0</td>\n",
       "      <td>1</td>\n",
       "      <td>97.5</td>\n",
       "    </tr>\n",
       "    <tr>\n",
       "      <th>...</th>\n",
       "      <td>...</td>\n",
       "      <td>...</td>\n",
       "      <td>...</td>\n",
       "      <td>...</td>\n",
       "      <td>...</td>\n",
       "      <td>...</td>\n",
       "      <td>...</td>\n",
       "      <td>...</td>\n",
       "      <td>...</td>\n",
       "      <td>...</td>\n",
       "      <td>...</td>\n",
       "      <td>...</td>\n",
       "      <td>...</td>\n",
       "    </tr>\n",
       "    <tr>\n",
       "      <th>298</th>\n",
       "      <td>57</td>\n",
       "      <td>Female</td>\n",
       "      <td>0</td>\n",
       "      <td>140.0</td>\n",
       "      <td>241.0</td>\n",
       "      <td>No</td>\n",
       "      <td>1</td>\n",
       "      <td>123.0</td>\n",
       "      <td>1</td>\n",
       "      <td>0.2</td>\n",
       "      <td>0</td>\n",
       "      <td>0</td>\n",
       "      <td>97.5</td>\n",
       "    </tr>\n",
       "    <tr>\n",
       "      <th>299</th>\n",
       "      <td>45</td>\n",
       "      <td>Male</td>\n",
       "      <td>3</td>\n",
       "      <td>110.0</td>\n",
       "      <td>264.0</td>\n",
       "      <td>No</td>\n",
       "      <td>1</td>\n",
       "      <td>132.0</td>\n",
       "      <td>0</td>\n",
       "      <td>1.2</td>\n",
       "      <td>0</td>\n",
       "      <td>0</td>\n",
       "      <td>97.5</td>\n",
       "    </tr>\n",
       "    <tr>\n",
       "      <th>300</th>\n",
       "      <td>68</td>\n",
       "      <td>Male</td>\n",
       "      <td>0</td>\n",
       "      <td>144.0</td>\n",
       "      <td>193.0</td>\n",
       "      <td>Yes</td>\n",
       "      <td>1</td>\n",
       "      <td>141.0</td>\n",
       "      <td>0</td>\n",
       "      <td>3.4</td>\n",
       "      <td>2</td>\n",
       "      <td>0</td>\n",
       "      <td>97.5</td>\n",
       "    </tr>\n",
       "    <tr>\n",
       "      <th>301</th>\n",
       "      <td>57</td>\n",
       "      <td>Male</td>\n",
       "      <td>0</td>\n",
       "      <td>130.0</td>\n",
       "      <td>131.0</td>\n",
       "      <td>No</td>\n",
       "      <td>1</td>\n",
       "      <td>115.0</td>\n",
       "      <td>1</td>\n",
       "      <td>1.2</td>\n",
       "      <td>1</td>\n",
       "      <td>0</td>\n",
       "      <td>97.5</td>\n",
       "    </tr>\n",
       "    <tr>\n",
       "      <th>302</th>\n",
       "      <td>57</td>\n",
       "      <td>Female</td>\n",
       "      <td>1</td>\n",
       "      <td>130.0</td>\n",
       "      <td>236.0</td>\n",
       "      <td>No</td>\n",
       "      <td>0</td>\n",
       "      <td>174.0</td>\n",
       "      <td>0</td>\n",
       "      <td>0.0</td>\n",
       "      <td>1</td>\n",
       "      <td>0</td>\n",
       "      <td>98.5</td>\n",
       "    </tr>\n",
       "  </tbody>\n",
       "</table>\n",
       "<p>303 rows × 13 columns</p>\n",
       "</div>"
      ],
      "text/plain": [
       "     age     sex  chest pain type  resting blood pressure  cholestrol levels  \\\n",
       "0     63    Male                3                   145.0              233.0   \n",
       "1     37    Male                2                   130.0              250.0   \n",
       "2     41  Female                1                   130.0              204.0   \n",
       "3     56    Male                1                   120.0              236.0   \n",
       "4     57  Female                0                   120.0              354.0   \n",
       "..   ...     ...              ...                     ...                ...   \n",
       "298   57  Female                0                   140.0              241.0   \n",
       "299   45    Male                3                   110.0              264.0   \n",
       "300   68    Male                0                   144.0              193.0   \n",
       "301   57    Male                0                   130.0              131.0   \n",
       "302   57  Female                1                   130.0              236.0   \n",
       "\n",
       "    fasting blood sugar  resting electrocardiographic  maximum heart rate  \\\n",
       "0                   Yes                             0               150.0   \n",
       "1                    No                             1               187.0   \n",
       "2                    No                             0               172.0   \n",
       "3                    No                             1               178.0   \n",
       "4                    No                             1               163.0   \n",
       "..                  ...                           ...                 ...   \n",
       "298                  No                             1               123.0   \n",
       "299                  No                             1               132.0   \n",
       "300                 Yes                             1               141.0   \n",
       "301                  No                             1               115.0   \n",
       "302                  No                             0               174.0   \n",
       "\n",
       "     exercise induced angina  old peak  number of major vessels  output  \\\n",
       "0                          0       2.3                        0       1   \n",
       "1                          0       3.5                        0       1   \n",
       "2                          0       1.4                        0       1   \n",
       "3                          0       0.8                        0       1   \n",
       "4                          1       0.6                        0       1   \n",
       "..                       ...       ...                      ...     ...   \n",
       "298                        1       0.2                        0       0   \n",
       "299                        0       1.2                        0       0   \n",
       "300                        0       3.4                        2       0   \n",
       "301                        1       1.2                        1       0   \n",
       "302                        0       0.0                        1       0   \n",
       "\n",
       "     O2 saturation  \n",
       "0             98.6  \n",
       "1             98.6  \n",
       "2             98.6  \n",
       "3             98.1  \n",
       "4             97.5  \n",
       "..             ...  \n",
       "298           97.5  \n",
       "299           97.5  \n",
       "300           97.5  \n",
       "301           97.5  \n",
       "302           98.5  \n",
       "\n",
       "[303 rows x 13 columns]"
      ]
     },
     "execution_count": 341,
     "metadata": {},
     "output_type": "execute_result"
    }
   ],
   "source": [
    "#Please write your code below\n",
    "mergedDf[\"fasting blood sugar\"] = mergedDf[\"fasting blood sugar\"].replace([0,1], [\"No\", \"Yes\"])\n",
    "mergedDf"
   ]
  },
  {
   "cell_type": "code",
   "execution_count": 342,
   "metadata": {},
   "outputs": [
    {
     "data": {
      "text/html": [
       "<p><strong><pre style='display: inline;'>Q13</pre></strong> passed!</p>"
      ],
      "text/plain": [
       "Q13 results: All test cases passed!"
      ]
     },
     "execution_count": 342,
     "metadata": {},
     "output_type": "execute_result"
    }
   ],
   "source": [
    "grader.check(\"Q13\")"
   ]
  },
  {
   "cell_type": "markdown",
   "metadata": {},
   "source": [
    "Q14: Did people who possess non anigmal pain (value -> 2) in their chest have greater chance of getting a heart attack to those who have an asymptotic (value -> 3) chest pain ?\n",
    "<br/>\n",
    "<b>Note: </b> Your Answer should be a simple 'Yes' or 'No' in form a string stored in the `q14Answer` variable."
   ]
  },
  {
   "cell_type": "code",
   "execution_count": 343,
   "metadata": {},
   "outputs": [],
   "source": [
    "nonAnginalPainDf = mergedDf[mergedDf[\"chest pain type\"] == 2]\n",
    "asymptomaticPainDf = mergedDf[mergedDf[\"chest pain type\"] == 3]\n",
    "\n",
    "# Since the question talks about chance, we must find the percentage of non-anginal pain individuals who got a heart attack out of all the non-anginal pain individuals\n",
    "\n",
    "nonAnginalChance = nonAnginalPainDf[nonAnginalPainDf[\"output\"] == 1].shape[0] / nonAnginalPainDf[\"output\"].shape[0]\n",
    "asymptomaticChance = asymptomaticPainDf[asymptomaticPainDf[\"output\"] == 1].shape[0] / asymptomaticPainDf[\"output\"].shape[0]\n",
    "\n",
    "q14Answer = \"No\"\n",
    "if nonAnginalChance > asymptomaticChance:\n",
    "    q14Answer = \"Yes\""
   ]
  },
  {
   "cell_type": "code",
   "execution_count": 344,
   "metadata": {},
   "outputs": [
    {
     "data": {
      "text/html": [
       "<p><strong><pre style='display: inline;'>Q14</pre></strong> passed!</p>"
      ],
      "text/plain": [
       "Q14 results: All test cases passed!"
      ]
     },
     "execution_count": 344,
     "metadata": {},
     "output_type": "execute_result"
    }
   ],
   "source": [
    "grader.check(\"Q14\")"
   ]
  },
  {
   "cell_type": "markdown",
   "metadata": {},
   "source": [
    "Q15: What is the maximum heart rate across the different age groups ? \n",
    "Store the max heart rates obtained in the variable `heartRates`.\n",
    "<br> Represent the maximum heart rates you obtain using a suitable plot. <br>\n",
    "Do you notice a trend in the maximum heart rate please give a valid justification for the trend that you observe ?"
   ]
  },
  {
   "cell_type": "code",
   "execution_count": 350,
   "metadata": {},
   "outputs": [
    {
     "data": {
      "text/plain": [
       "Text(0, 0.5, 'Max Heart Rates')"
      ]
     },
     "execution_count": 350,
     "metadata": {},
     "output_type": "execute_result"
    },
    {
     "data": {
      "image/png": "[encoded data removed]",
      "text/plain": [
       "<Figure size 432x288 with 1 Axes>"
      ]
     },
     "metadata": {
      "needs_background": "light"
     },
     "output_type": "display_data"
    }
   ],
   "source": [
    "#Please write your code below\n",
    "heartRates = []\n",
    "for group in listOfDf:\n",
    "    heartRates.append(group[\"maximum heart rate\"].max())\n",
    "\n",
    "plt.bar(labels, heartRates)\n",
    "plt.title(\"Maximum Heart Rates for Different Age Ranges\")\n",
    "plt.xlabel(\"Age Ranges\")\n",
    "plt.ylabel(\"Max Heart Rates\")\n",
    "\n",
    "# Yes, I notice a trend in the max heart rates: they're decreasing as the patients' ages increase. This is evident from the height of the bars for the different age ranges. Every bar is shorter in height than it's preceeding bar which means the max heart rates are decreasing."
   ]
  },
  {
   "cell_type": "code",
   "execution_count": 346,
   "metadata": {},
   "outputs": [
    {
     "data": {
      "text/html": [
       "<p><strong><pre style='display: inline;'>Q15</pre></strong> passed!</p>"
      ],
      "text/plain": [
       "Q15 results: All test cases passed!"
      ]
     },
     "execution_count": 346,
     "metadata": {},
     "output_type": "execute_result"
    }
   ],
   "source": [
    "grader.check(\"Q15\")"
   ]
  },
  {
   "cell_type": "markdown",
   "metadata": {},
   "source": [
    "Q16: How many people have the oxygen saturation and cholestrol values greater than the threshold values given below ? Store it in the variable `numberOfPeople`. \n",
    "<br>\n",
    "Do you think people with such levels of O2 saturation and cholestrol have a higher probability of getting an heart attack ? Justify this claim by providing a valid reason."
   ]
  },
  {
   "cell_type": "code",
   "execution_count": 347,
   "metadata": {},
   "outputs": [],
   "source": [
    "#The threshold values are given below\n",
    "o2Threshold = 98\n",
    "cholThreshold = 200\n",
    "\n",
    "thresholdDf = mergedDf.loc[(mergedDf[\"O2 saturation\"] >= o2Threshold) & (mergedDf[\"cholestrol levels\"] >= cholThreshold)]\n",
    "numberOfPeople = thresholdDf.shape[0]\n",
    "\n",
    "# probability is the proportion of people that got a heart attack with oxygen saturation and cholestrol values greater than or equal to the threshold values\n",
    "probability = thresholdDf[thresholdDf[\"output\"] == 1].shape[0] / mergedDf[mergedDf[\"output\"] == 1].shape[0]\n",
    "\n",
    "lessThanThresholdDf = mergedDf.loc[(mergedDf[\"O2 saturation\"] < o2Threshold) & (mergedDf[\"cholestrol levels\"] < cholThreshold)]\n",
    "# probabilityLessThan is the proportion of people that got a heart attack with oxygen saturation and cholestrol values less than the threshold values\n",
    "probabilityLessThan = lessThanThresholdDf[lessThanThresholdDf[\"output\"] == 1].shape[0] / mergedDf[mergedDf[\"output\"] == 1].shape[0]\n",
    "\n",
    "# The meaning of probability and probabilityLessThan is explained above. Since probability < probabilityLessThan (0.09 < 0.176), the people with levels of O2 saturation and cholestrol above the threshold make up fewer people that got heart attacks than the people below the threshold. So, levels of O2 saturation and cholestrol above the threshold do not have a higher probability of getting a heart attack."
   ]
  },
  {
   "cell_type": "code",
   "execution_count": 348,
   "metadata": {},
   "outputs": [
    {
     "data": {
      "text/html": [
       "<p><strong><pre style='display: inline;'>Q16</pre></strong> passed!</p>"
      ],
      "text/plain": [
       "Q16 results: All test cases passed!"
      ]
     },
     "execution_count": 348,
     "metadata": {},
     "output_type": "execute_result"
    }
   ],
   "source": [
    "grader.check(\"Q16\")"
   ]
  },
  {
   "cell_type": "markdown",
   "metadata": {},
   "source": [
    "This marks the end of Assignment 1 Part 2 :) <br>\n",
    "Hooray! You made it to the end now give your self a pat on the back!"
   ]
  }
 ],
 "metadata": {
  "kernelspec": {
   "display_name": "Python 3.7.12 64-bit",
   "language": "python",
   "name": "python3"
  },
  "language_info": {
   "codemirror_mode": {
    "name": "ipython",
    "version": 3
   },
   "file_extension": ".py",
   "mimetype": "text/x-python",
   "name": "python",
   "nbconvert_exporter": "python",
   "pygments_lexer": "ipython3",
   "version": "3.7.12"
  },
  "vscode": {
   "interpreter": {
    "hash": "7a3d88c904243d2c3f246166597f86d1c0a39f3d97496d1fe394945d0c6d436d"
   }
  }
 },
 "nbformat": 4,
 "nbformat_minor": 2
}
